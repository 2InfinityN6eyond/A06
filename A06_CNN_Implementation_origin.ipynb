{
 "cells": [
  {
   "cell_type": "markdown",
   "metadata": {
    "id": "WvMQYtbR-xqK"
   },
   "source": [
    "# Simple CNN Implementation - Classification Practice"
   ]
  },
  {
   "cell_type": "markdown",
   "metadata": {
    "id": "Z6XEyLYl-3ZT"
   },
   "source": [
    "### 1. Load Dataset - 이 부분은 수정하지 마세요!\n",
    "* 데이터셋 전처리"
   ]
  },
  {
   "cell_type": "code",
   "execution_count": null,
   "metadata": {
    "id": "05KeUS3eUTt1",
    "scrolled": true,
    "tags": []
   },
   "outputs": [],
   "source": [
    "! unzip archive.zip"
   ]
  },
  {
   "cell_type": "code",
   "execution_count": null,
   "metadata": {},
   "outputs": [],
   "source": [
    "# Your Code Here\n",
    "from PIL import Image\n",
    "from glob import glob\n",
    "import numpy as np\n",
    "import os\n",
    "\n",
    "dir_names = sorted([dir_name for dir_name in glob('./seven_plastics/*')])\n",
    "label_dict = {os.path.basename(dir_name):label for label, dir_name in enumerate(dir_names)}\n",
    "\n",
    "label_list = []\n",
    "img_list = []\n",
    "for dir_name in dir_names:\n",
    "    for img_path in glob(dir_name + \"/*\"):\n",
    "        image = np.array(Image.open(img_path).convert('RGB').resize((200,200)))/255 # scaling\n",
    "        img_list.append(image)\n",
    "\n",
    "        label_list.append(label_dict[os.path.basename(dir_name)])\n",
    "label_list = np.array(label_list)\n",
    "img_list = np.array(img_list)"
   ]
  },
  {
   "cell_type": "code",
   "execution_count": null,
   "metadata": {},
   "outputs": [],
   "source": [
    "img_list.shape, label_list.shape"
   ]
  },
  {
   "cell_type": "markdown",
   "metadata": {},
   "source": [
    "* Split training set / test set"
   ]
  },
  {
   "cell_type": "code",
   "execution_count": null,
   "metadata": {},
   "outputs": [],
   "source": [
    "from sklearn.model_selection import train_test_split\n",
    "\n",
    "X_train, X_test, y_train, y_test = train_test_split(img_list, label_list, test_size=0.2, random_state=1213)\n",
    "\n",
    "X_train.shape, y_train.shape, X_test.shape, y_test.shape"
   ]
  },
  {
   "cell_type": "code",
   "execution_count": null,
   "metadata": {},
   "outputs": [],
   "source": []
  },
  {
   "cell_type": "markdown",
   "metadata": {
    "id": "khSG-erQ-77r"
   },
   "source": [
    "### 2. Build Model\n",
    "* 지난주 실습 (L10,11-실습)을 기반으로 keras layer를 쌓되 이번주 수업시간에서 배운 여러가지 기법들(i.e., Activation Function, Batch Normalization, Regularization 등)을 적용해보세요.\n",
    "* 수업 시간에 배우지 않은 기법들은 사용 금지입니다. (e.g., Transfer learning 등)"
   ]
  },
  {
   "cell_type": "code",
   "execution_count": null,
   "metadata": {
    "id": "luU2vFon_LZu"
   },
   "outputs": [],
   "source": [
    "# Your Code Here\n"
   ]
  },
  {
   "cell_type": "code",
   "execution_count": null,
   "metadata": {},
   "outputs": [],
   "source": []
  },
  {
   "cell_type": "markdown",
   "metadata": {
    "id": "Lw_HFavY_MFG"
   },
   "source": [
    "### 3. Train Model\n",
    "* training set을 기반으로 훈련을 진행하세요."
   ]
  },
  {
   "cell_type": "code",
   "execution_count": null,
   "metadata": {
    "id": "mmGxIs9G_OBE"
   },
   "outputs": [],
   "source": [
    "# Your Code Here\n"
   ]
  },
  {
   "cell_type": "markdown",
   "metadata": {},
   "source": [
    "* 학습 과정을 시각화해보세요. 아래 예시처럼 train accuracy와 valid accuracy의 과정이 그려지면 됩니다."
   ]
  },
  {
   "cell_type": "markdown",
   "metadata": {},
   "source": [
    "![visualization](./example.png)"
   ]
  },
  {
   "cell_type": "code",
   "execution_count": null,
   "metadata": {},
   "outputs": [],
   "source": [
    "# Your Code Here\n"
   ]
  },
  {
   "cell_type": "code",
   "execution_count": null,
   "metadata": {},
   "outputs": [],
   "source": []
  },
  {
   "cell_type": "markdown",
   "metadata": {},
   "source": [
    "### 4. Report Result\n",
    "* test set에 대한 결과를 리포트하세요."
   ]
  },
  {
   "cell_type": "code",
   "execution_count": null,
   "metadata": {},
   "outputs": [],
   "source": [
    "# Your Code Here\n"
   ]
  }
 ],
 "metadata": {
  "colab": {
   "collapsed_sections": [],
   "name": "A04-DeepLearningBasic.ipynb",
   "provenance": []
  },
  "kernelspec": {
   "display_name": "Python 3",
   "language": "python",
   "name": "python3"
  },
  "language_info": {
   "codemirror_mode": {
    "name": "ipython",
    "version": 3
   },
   "file_extension": ".py",
   "mimetype": "text/x-python",
   "name": "python",
   "nbconvert_exporter": "python",
   "pygments_lexer": "ipython3",
   "version": "3.8.8"
  },
  "vscode": {
   "interpreter": {
    "hash": "949777d72b0d2535278d3dc13498b2535136f6dfe0678499012e853ee9abcab1"
   }
  }
 },
 "nbformat": 4,
 "nbformat_minor": 4
}
